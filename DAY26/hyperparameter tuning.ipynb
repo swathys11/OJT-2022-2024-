{
 "cells": [
  {
   "cell_type": "markdown",
   "id": "815af70d",
   "metadata": {},
   "source": [
    "Choose the best model for iris dataset using hyperparameter tuning"
   ]
  },
  {
   "cell_type": "code",
   "execution_count": 2,
   "id": "0b4b9995",
   "metadata": {},
   "outputs": [],
   "source": [
    "from sklearn.datasets import load_iris\n",
    "from sklearn.model_selection import train_test_split, GridSearchCV\n",
    "from sklearn.ensemble import RandomForestClassifier\n",
    "from sklearn.svm import SVC\n",
    "from sklearn.neighbors import KNeighborsClassifier\n",
    "from sklearn.metrics import accuracy_score"
   ]
  },
  {
   "cell_type": "code",
   "execution_count": 3,
   "id": "9bf8fb15",
   "metadata": {},
   "outputs": [],
   "source": [
    "#Load iris dataset\n",
    "iris =load_iris()\n",
    "x = iris.data\n",
    "y = iris.target"
   ]
  },
  {
   "cell_type": "code",
   "execution_count": 4,
   "id": "4e59f0ac",
   "metadata": {},
   "outputs": [],
   "source": [
    "#Split the dataset into training and testing sets\n",
    "x_train, x_test, y_train, y_test = train_test_split(x, y, test_size = 0.2, random_state = 42)"
   ]
  },
  {
   "cell_type": "code",
   "execution_count": 5,
   "id": "591be131",
   "metadata": {},
   "outputs": [],
   "source": [
    "#Define models\n",
    "models = {'RandomForest' : RandomForestClassifier(),\n",
    "          'SVM' : SVC(),\n",
    "          'KNN' : KNeighborsClassifier()\n",
    "}\n",
    "\n",
    "#Define hyperparameters to tune for each model\n",
    "params = {\n",
    "    'RandomForest' : {'n_estimators': [50,100,200], 'max_depth': [None, 5, 10]},\n",
    "    'SVM': {'C' : [0.1, 1, 10], 'kernel' : ['linear', 'rbf']},\n",
    "    'KNN': {'n_neighbors' : [3, 5, 7], 'weights' : ['uniform', 'distance']}\n",
    "}"
   ]
  },
  {
   "cell_type": "code",
   "execution_count": 6,
   "id": "aea7f164",
   "metadata": {},
   "outputs": [
    {
     "name": "stdout",
     "output_type": "stream",
     "text": [
      "RandomForest :Best accuracy -  0.95 Best parameters -  {'max_depth': None, 'n_estimators': 50}\n",
      "SVM :Best accuracy -  0.9583333333333334 Best parameters -  {'C': 1, 'kernel': 'linear'}\n",
      "KNN :Best accuracy -  0.9583333333333334 Best parameters -  {'n_neighbors': 3, 'weights': 'uniform'}\n",
      "The best model is:  SVC(C=1, kernel='linear')\n",
      "Beat accuracy is :  0.9583333333333334\n"
     ]
    }
   ],
   "source": [
    "best_model = None\n",
    "best_accuracy = 0\n",
    "#Hyperparameter tuning using GridSearchCV\n",
    "for name, model in models.items():\n",
    "    grid_search = GridSearchCV(estimator=model, param_grid=params[name], cv = 5, scoring='accuracy')\n",
    "    grid_search.fit(x_train, y_train)\n",
    "    accuracy = grid_search.best_score_\n",
    "    print(name, \":Best accuracy - \",accuracy, \"Best parameters - \", grid_search.best_params_)\n",
    "    if accuracy > best_accuracy:\n",
    "        best_accuracy = accuracy\n",
    "        best_model = grid_search.best_estimator_\n",
    "\n",
    "print(\"The best model is: \", best_model)\n",
    "print(\"Beat accuracy is : \", best_accuracy)"
   ]
  },
  {
   "cell_type": "code",
   "execution_count": 7,
   "id": "db5b75fd",
   "metadata": {},
   "outputs": [
    {
     "name": "stdout",
     "output_type": "stream",
     "text": [
      "Test Accuracy of Best Model: 1.0\n"
     ]
    }
   ],
   "source": [
    "# Evaluate the best model on the test set\n",
    "y_pred = best_model.predict(x_test)\n",
    "test_accuracy = accuracy_score(y_test, y_pred)\n",
    "print(\"Test Accuracy of Best Model:\", test_accuracy)"
   ]
  },
  {
   "cell_type": "code",
   "execution_count": null,
   "id": "48f85112",
   "metadata": {},
   "outputs": [],
   "source": []
  }
 ],
 "metadata": {
  "kernelspec": {
   "display_name": "Python 3 (ipykernel)",
   "language": "python",
   "name": "python3"
  },
  "language_info": {
   "codemirror_mode": {
    "name": "ipython",
    "version": 3
   },
   "file_extension": ".py",
   "mimetype": "text/x-python",
   "name": "python",
   "nbconvert_exporter": "python",
   "pygments_lexer": "ipython3",
   "version": "3.11.5"
  }
 },
 "nbformat": 4,
 "nbformat_minor": 5
}
