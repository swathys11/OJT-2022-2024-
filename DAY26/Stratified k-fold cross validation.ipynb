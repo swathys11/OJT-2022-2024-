{
 "cells": [
  {
   "cell_type": "markdown",
   "id": "53c13ada",
   "metadata": {},
   "source": [
    "Evaluation Logistic regression model on iris dataset using stratified k _fold cross validation."
   ]
  },
  {
   "cell_type": "code",
   "execution_count": 1,
   "id": "ca70d3c5",
   "metadata": {},
   "outputs": [],
   "source": [
    "from sklearn.datasets import load_iris\n",
    "from sklearn.linear_model import LogisticRegression\n",
    "from sklearn.model_selection import cross_val_score, StratifiedKFold"
   ]
  },
  {
   "cell_type": "code",
   "execution_count": 2,
   "id": "266aab00",
   "metadata": {},
   "outputs": [],
   "source": [
    "#Load the iris dataset\n",
    "iris = load_iris()\n",
    "x = iris.data\n",
    "y = iris.target"
   ]
  },
  {
   "cell_type": "code",
   "execution_count": 3,
   "id": "13f08086",
   "metadata": {},
   "outputs": [],
   "source": [
    "#initialize logistic regression model\n",
    "log_reg = LogisticRegression(max_iter=1000)"
   ]
  },
  {
   "cell_type": "code",
   "execution_count": 4,
   "id": "336cfd53",
   "metadata": {},
   "outputs": [],
   "source": [
    "#Defined stratified k-fold cross_validation\n",
    "stratified_k_fold = StratifiedKFold(n_splits=5, shuffle=True, random_state=42)"
   ]
  },
  {
   "cell_type": "code",
   "execution_count": 6,
   "id": "61de716b",
   "metadata": {},
   "outputs": [
    {
     "name": "stdout",
     "output_type": "stream",
     "text": [
      "Accuracy for each fold:  [1.         0.96666667 0.93333333 1.         0.93333333]\n"
     ]
    }
   ],
   "source": [
    "#Peform cross validation\n",
    "scores = cross_val_score(log_reg, x, y, cv=stratified_k_fold)\n",
    "\n",
    "#print the accuracy for each fold\n",
    "print(\"Accuracy for each fold: \", scores)"
   ]
  },
  {
   "cell_type": "code",
   "execution_count": 7,
   "id": "c1418e3c",
   "metadata": {},
   "outputs": [
    {
     "name": "stdout",
     "output_type": "stream",
     "text": [
      "Mean Accuracy:  0.9666666666666668\n",
      "Standard Deviation:  0.029814239699997188\n"
     ]
    }
   ],
   "source": [
    "#Print the mean accuracy and standard deviation\n",
    "print(\"Mean Accuracy: \", scores.mean())\n",
    "print(\"Standard Deviation: \", scores.std())"
   ]
  },
  {
   "cell_type": "code",
   "execution_count": null,
   "id": "c8c64184",
   "metadata": {},
   "outputs": [],
   "source": []
  }
 ],
 "metadata": {
  "kernelspec": {
   "display_name": "Python 3 (ipykernel)",
   "language": "python",
   "name": "python3"
  },
  "language_info": {
   "codemirror_mode": {
    "name": "ipython",
    "version": 3
   },
   "file_extension": ".py",
   "mimetype": "text/x-python",
   "name": "python",
   "nbconvert_exporter": "python",
   "pygments_lexer": "ipython3",
   "version": "3.11.5"
  }
 },
 "nbformat": 4,
 "nbformat_minor": 5
}
