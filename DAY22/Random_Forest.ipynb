{
 "cells": [
  {
   "cell_type": "code",
   "execution_count": 10,
   "id": "169edef5-e0f0-402e-8c4b-7e906641df1e",
   "metadata": {
    "tags": []
   },
   "outputs": [],
   "source": [
    "#importing Neccessary Libraries\n",
    "from sklearn.ensemble import RandomForestClassifier, RandomForestRegressor\n",
    "from sklearn.model_selection import train_test_split, GridSearchCV\n",
    "from sklearn.datasets import load_iris\n",
    "from sklearn.datasets import fetch_california_housing\n",
    "from sklearn.metrics import accuracy_score, mean_squared_error\n",
    "import pandas as pd\n",
    "import numpy as np"
   ]
  },
  {
   "cell_type": "code",
   "execution_count": 14,
   "id": "ec9b5bd3-c29e-49f0-96b6-d71f0a170978",
   "metadata": {
    "tags": []
   },
   "outputs": [],
   "source": [
    "# Load Iris dataset for classification\n",
    "iris = load_iris()\n",
    "X_classification = iris.data\n",
    "y_classification = iris.target\n",
    "# California_housing Housing dataset for regression\n",
    "california_housing = fetch_california_housing()\n",
    "X_regression = california_housing.data\n",
    "y_regression = california_housing.target\n"
   ]
  },
  {
   "cell_type": "code",
   "execution_count": 16,
   "id": "dcd70c8e-da76-4050-a719-f2d496a27d46",
   "metadata": {
    "tags": []
   },
   "outputs": [],
   "source": [
    "# Classification data split\n",
    "X_train_cls, X_test_cls, y_train_cls, y_test_cls = train_test_split(X_classification, y_classification, test_size=0.2, random_state=42)\n",
    "# Regression data split\n",
    "X_train_reg, X_test_reg, y_train_reg, y_test_reg = train_test_split(X_regression, y_regression, test_size=0.2, random_state=42)\n"
   ]
  },
  {
   "cell_type": "code",
   "execution_count": 17,
   "id": "ad438e03-ffce-4846-a74a-ebd260fb38f5",
   "metadata": {
    "tags": []
   },
   "outputs": [
    {
     "name": "stdout",
     "output_type": "stream",
     "text": [
      "Classification Accuracy: 1.0\n"
     ]
    }
   ],
   "source": [
    "#for classification\n",
    "# Initialize the Random Forest Classifier\n",
    "rf_classifier = RandomForestClassifier(n_estimators=100, random_state=42)\n",
    "\n",
    "# Train the model\n",
    "rf_classifier.fit(X_train_cls, y_train_cls)\n",
    "\n",
    "# Make predictions\n",
    "y_pred_cls = rf_classifier.predict(X_test_cls)\n",
    "\n",
    "# Evaluate the model\n",
    "accuracy = accuracy_score(y_test_cls, y_pred_cls)\n",
    "print(f'Classification Accuracy: {accuracy}')\n"
   ]
  },
  {
   "cell_type": "code",
   "execution_count": 18,
   "id": "176dcfbd-d4e9-49a2-8bdd-31e3dbe4f68c",
   "metadata": {
    "tags": []
   },
   "outputs": [
    {
     "name": "stdout",
     "output_type": "stream",
     "text": [
      "Regression Mean Squared Error: 0.2553684927247781\n"
     ]
    }
   ],
   "source": [
    "#Regression\n",
    "# Initialize the Random Forest Regressor\n",
    "rf_regressor = RandomForestRegressor(n_estimators=100, random_state=42)\n",
    "# Train the model\n",
    "rf_regressor.fit(X_train_reg, y_train_reg)\n",
    "# Make predictions\n",
    "y_pred_reg = rf_regressor.predict(X_test_reg)\n",
    "# Evaluate the model\n",
    "mse = mean_squared_error(y_test_reg, y_pred_reg)\n",
    "print(f'Regression Mean Squared Error: {mse}')\n"
   ]
  },
  {
   "cell_type": "code",
   "execution_count": 19,
   "id": "0edfb434-67b3-446a-a59d-2b301c6fde8c",
   "metadata": {
    "tags": []
   },
   "outputs": [
    {
     "name": "stdout",
     "output_type": "stream",
     "text": [
      "Fitting 3 folds for each of 216 candidates, totalling 648 fits\n",
      "Best parameters for classification: {'bootstrap': True, 'max_depth': None, 'min_samples_leaf': 2, 'min_samples_split': 2, 'n_estimators': 100}\n"
     ]
    }
   ],
   "source": [
    "# Define parameter grid\n",
    "param_grid = {\n",
    "    'n_estimators': [100, 200, 300],\n",
    "    'max_depth': [None, 10, 20, 30],\n",
    "    'min_samples_split': [2, 5, 10],\n",
    "    'min_samples_leaf': [1, 2, 4],\n",
    "    'bootstrap': [True, False]\n",
    "}\n",
    "\n",
    "# Initialize GridSearchCV\n",
    "grid_search_cls = GridSearchCV(estimator=rf_classifier, param_grid=param_grid, cv=3, n_jobs=-1, verbose=2)\n",
    "\n",
    "# Fit GridSearchCV\n",
    "grid_search_cls.fit(X_train_cls, y_train_cls)\n",
    "\n",
    "# Best parameters\n",
    "print(f'Best parameters for classification: {grid_search_cls.best_params_}')\n"
   ]
  },
  {
   "cell_type": "code",
   "execution_count": null,
   "id": "040e953a-91a7-465a-b13c-deb0eeeb3026",
   "metadata": {
    "tags": []
   },
   "outputs": [
    {
     "name": "stdout",
     "output_type": "stream",
     "text": [
      "Fitting 3 folds for each of 216 candidates, totalling 648 fits\n"
     ]
    }
   ],
   "source": [
    "# Define parameter grid\n",
    "param_grid = {\n",
    "    'n_estimators': [100, 200, 300],\n",
    "    'max_depth': [None, 10, 20, 30],\n",
    "    'min_samples_split': [2, 5, 10],\n",
    "    'min_samples_leaf': [1, 2, 4],\n",
    "    'bootstrap': [True, False]\n",
    "}\n",
    "\n",
    "# Initialize GridSearchCV\n",
    "grid_search_reg = GridSearchCV(estimator=rf_regressor, param_grid=param_grid, cv=3, n_jobs=-1, verbose=2)\n",
    "\n",
    "# Fit GridSearchCV\n",
    "grid_search_reg.fit(X_train_reg, y_train_reg)\n",
    "\n",
    "# Best parameters\n",
    "print(f'Best parameters for regression: {grid_search_reg.best_params_}')\n"
   ]
  },
  {
   "cell_type": "code",
   "execution_count": null,
   "id": "5f2bdeeb-a3b4-48f0-aaee-da3ac4adf6ae",
   "metadata": {
    "tags": []
   },
   "outputs": [],
   "source": [
    "# Feature importance for classification\n",
    "feature_importances_cls = rf_classifier.feature_importances_\n",
    "print(f'Feature Importances (Classification): {feature_importances_cls}')\n",
    "\n",
    "# Feature importance for regression\n",
    "feature_importances_reg = rf_regressor.feature_importances_\n",
    "print(f'Feature Importances (Regression): {feature_importances_reg}')\n"
   ]
  },
  {
   "cell_type": "code",
   "execution_count": null,
   "id": "c4e1d3a3-8462-4ca6-a0b6-a19659a51eea",
   "metadata": {
    "tags": []
   },
   "outputs": [],
   "source": [
    "# Initialize Random Forest with OOB score\n",
    "rf_classifier_oob = RandomForestClassifier(n_estimators=100, oob_score=True, random_state=42)\n",
    "\n",
    "# Train the model\n",
    "rf_classifier_oob.fit(X_train_cls, y_train_cls)\n",
    "\n",
    "# OOB score\n",
    "oob_score = rf_classifier_oob.oob_score_\n",
    "print(f'OOB Score (Classification): {oob_score}')\n"
   ]
  },
  {
   "cell_type": "code",
   "execution_count": null,
   "id": "67385782-1c6e-46ee-9a9e-909b6b8276ba",
   "metadata": {
    "tags": []
   },
   "outputs": [],
   "source": [
    "# Initialize Random Forest with class weights\n",
    "rf_classifier_weighted = RandomForestClassifier(n_estimators=100, class_weight='balanced', random_state=42)\n",
    "\n",
    "# Train the model\n",
    "rf_classifier_weighted.fit(X_train_cls, y_train_cls)\n",
    "\n",
    "# Make predictions\n",
    "y_pred_weighted = rf_classifier_weighted.predict(X_test_cls)\n",
    "\n",
    "# Evaluate the model\n",
    "accuracy_weighted = accuracy_score(y_test_cls, y_pred_weighted)\n",
    "print(f'Accuracy with Class Weights: {accuracy_weighted}')\n"
   ]
  }
 ],
 "metadata": {
  "kernelspec": {
   "display_name": "Python 3 (ipykernel)",
   "language": "python",
   "name": "python3"
  },
  "language_info": {
   "codemirror_mode": {
    "name": "ipython",
    "version": 3
   },
   "file_extension": ".py",
   "mimetype": "text/x-python",
   "name": "python",
   "nbconvert_exporter": "python",
   "pygments_lexer": "ipython3",
   "version": "3.11.5"
  }
 },
 "nbformat": 4,
 "nbformat_minor": 5
}
